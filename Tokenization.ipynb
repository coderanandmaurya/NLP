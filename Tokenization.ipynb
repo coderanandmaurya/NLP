{
  "nbformat": 4,
  "nbformat_minor": 0,
  "metadata": {
    "colab": {
      "name": "Tokenization.ipynb",
      "provenance": [],
      "authorship_tag": "ABX9TyMat91wmPx74fenTgrnPkT0",
      "include_colab_link": true
    },
    "kernelspec": {
      "name": "python3",
      "display_name": "Python 3"
    },
    "language_info": {
      "name": "python"
    }
  },
  "cells": [
    {
      "cell_type": "markdown",
      "metadata": {
        "id": "view-in-github",
        "colab_type": "text"
      },
      "source": [
        "<a href=\"https://colab.research.google.com/github/coderanandmaurya/NLP/blob/main/Tokenization.ipynb\" target=\"_parent\"><img src=\"https://colab.research.google.com/assets/colab-badge.svg\" alt=\"Open In Colab\"/></a>"
      ]
    },
    {
      "cell_type": "code",
      "metadata": {
        "colab": {
          "base_uri": "https://localhost:8080/"
        },
        "id": "lt0rmScdtZhv",
        "outputId": "2723be41-3cad-4629-f85f-add85a2382e8"
      },
      "source": [
        "!pip install nltk"
      ],
      "execution_count": 4,
      "outputs": [
        {
          "output_type": "stream",
          "name": "stdout",
          "text": [
            "Requirement already satisfied: nltk in /usr/local/lib/python3.7/dist-packages (3.2.5)\n",
            "Requirement already satisfied: six in /usr/local/lib/python3.7/dist-packages (from nltk) (1.15.0)\n"
          ]
        }
      ]
    },
    {
      "cell_type": "code",
      "metadata": {
        "colab": {
          "base_uri": "https://localhost:8080/"
        },
        "id": "m2DDCFBgsvYL",
        "outputId": "ad41205d-609c-4a6c-ed0a-5fd5bdbd2052"
      },
      "source": [
        "# Tokenization of paragraphs/sentences\n",
        "import nltk\n",
        "#nltk.download()\n",
        "nltk.download(\"punkt\")\n",
        "\n",
        "paragraph = \"\"\"Jana gana mana adhinaayak jaya hai Bhaarat bhagya vidhaata Panjaab, sindh, gujraat, maraatha Draavid utkal banga Vindya, himaachal, yamuna, ganga\n",
        "Utchchhal jaldhi taranga Tab shubh naame jaage Tab shubh aashish maage Gaahe tab jay gaatha Jana gana mangal daayak jay he Bhaarat bhagya vidhaata\n",
        "Jaya hey... Jaya hey... Jaya hey... Jaya jaya jaya jaya hey...\"\"\""
      ],
      "execution_count": 13,
      "outputs": [
        {
          "output_type": "stream",
          "name": "stdout",
          "text": [
            "[nltk_data] Downloading package punkt to /root/nltk_data...\n",
            "[nltk_data]   Unzipping tokenizers/punkt.zip.\n"
          ]
        }
      ]
    },
    {
      "cell_type": "code",
      "metadata": {
        "colab": {
          "base_uri": "https://localhost:8080/"
        },
        "id": "Dgd9jp4Hs7AI",
        "outputId": "b2f9e309-a2fa-4813-c34d-5480a9422f01"
      },
      "source": [
        "# Tokenizing sentences\n",
        "sentences = nltk.sent_tokenize(paragraph)\n",
        "sentences"
      ],
      "execution_count": 15,
      "outputs": [
        {
          "output_type": "execute_result",
          "data": {
            "text/plain": [
              "['\\nJana gana mana adhinaayak jaya hai\\nBhaarat bhagya vidhaata\\nPanjaab, sindh, gujraat, maraatha\\nDraavid utkal banga\\nVindya, himaachal, yamuna, ganga\\nUtchchhal jaldhi taranga\\nTab shubh naame jaage\\nTab shubh aashish maage\\nGaahe tab jay gaatha\\nJana gana mangal daayak jay he\\nBhaarat bhagya vidhaata\\nJaya hey...\\nJaya hey...\\nJaya hey...\\nJaya jaya jaya jaya hey...']"
            ]
          },
          "metadata": {},
          "execution_count": 15
        }
      ]
    },
    {
      "cell_type": "code",
      "metadata": {
        "colab": {
          "base_uri": "https://localhost:8080/"
        },
        "id": "lql0CR0Ws8cY",
        "outputId": "c5457d16-a3c0-4eca-83e4-b3ad357269e2"
      },
      "source": [
        "# Tokenizing words\n",
        "words = nltk.word_tokenize(paragraph)\n",
        "words"
      ],
      "execution_count": 16,
      "outputs": [
        {
          "output_type": "execute_result",
          "data": {
            "text/plain": [
              "['Jana',\n",
              " 'gana',\n",
              " 'mana',\n",
              " 'adhinaayak',\n",
              " 'jaya',\n",
              " 'hai',\n",
              " 'Bhaarat',\n",
              " 'bhagya',\n",
              " 'vidhaata',\n",
              " 'Panjaab',\n",
              " ',',\n",
              " 'sindh',\n",
              " ',',\n",
              " 'gujraat',\n",
              " ',',\n",
              " 'maraatha',\n",
              " 'Draavid',\n",
              " 'utkal',\n",
              " 'banga',\n",
              " 'Vindya',\n",
              " ',',\n",
              " 'himaachal',\n",
              " ',',\n",
              " 'yamuna',\n",
              " ',',\n",
              " 'ganga',\n",
              " 'Utchchhal',\n",
              " 'jaldhi',\n",
              " 'taranga',\n",
              " 'Tab',\n",
              " 'shubh',\n",
              " 'naame',\n",
              " 'jaage',\n",
              " 'Tab',\n",
              " 'shubh',\n",
              " 'aashish',\n",
              " 'maage',\n",
              " 'Gaahe',\n",
              " 'tab',\n",
              " 'jay',\n",
              " 'gaatha',\n",
              " 'Jana',\n",
              " 'gana',\n",
              " 'mangal',\n",
              " 'daayak',\n",
              " 'jay',\n",
              " 'he',\n",
              " 'Bhaarat',\n",
              " 'bhagya',\n",
              " 'vidhaata',\n",
              " 'Jaya',\n",
              " 'hey',\n",
              " '...',\n",
              " 'Jaya',\n",
              " 'hey',\n",
              " '...',\n",
              " 'Jaya',\n",
              " 'hey',\n",
              " '...',\n",
              " 'Jaya',\n",
              " 'jaya',\n",
              " 'jaya',\n",
              " 'jaya',\n",
              " 'hey',\n",
              " '...']"
            ]
          },
          "metadata": {},
          "execution_count": 16
        }
      ]
    }
  ]
}